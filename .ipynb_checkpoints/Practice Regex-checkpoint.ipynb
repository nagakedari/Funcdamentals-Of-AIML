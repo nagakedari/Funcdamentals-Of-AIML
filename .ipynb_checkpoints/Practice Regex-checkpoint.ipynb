{
 "cells": [
  {
   "cell_type": "markdown",
   "metadata": {},
   "source": [
    "### Regular Expression Practice Exercise"
   ]
  },
  {
   "cell_type": "markdown",
   "metadata": {},
   "source": [
    "This excersie will use `''.join()` function of python\n",
    "\n",
    "What join does is, it combines the elements of a list or tuple with a common separator\n",
    "\n",
    "To be able to use finditer, we need to pass a string. We use the join function to achieve that."
   ]
  },
  {
   "cell_type": "code",
   "execution_count": 9,
   "metadata": {},
   "outputs": [
    {
     "name": "stdout",
     "output_type": "stream",
     "text": [
      "Joining element of 'a' using ' | ' as separator\n",
      "This | Is | it | Also | Mine | Whatever\n",
      "\n",
      "Joining element of 'a' using ', ' as separator\n",
      "This, Is, it, Also, Mine, Whatever\n",
      "\n",
      "Joining element of 'a' without a separator\n",
      "ThisIsitAlsoMineWhatever\n",
      "\n",
      "Joining element of 'a' using '||' as separator\n",
      "This||Is||it||Also||Mine||Whatever\n",
      "\n"
     ]
    }
   ],
   "source": [
    "# Example of join Functions\n",
    "a = ['This','Is','it','Also','Mine','Whatever']\n",
    "\n",
    "print(\"Joining element of 'a' using ' | ' as separator\")\n",
    "print(\" | \".join(a))\n",
    "print()\n",
    "print(\"Joining element of 'a' using ', ' as separator\")\n",
    "print(\", \".join(a))\n",
    "print()\n",
    "print(\"Joining element of 'a' without a separator\")\n",
    "print(\"\".join(a))\n",
    "print()\n",
    "print(\"Joining element of 'a' using '||' as separator\")\n",
    "print(\"||\".join(a))\n",
    "print()\n"
   ]
  },
  {
   "cell_type": "markdown",
   "metadata": {},
   "source": [
    "`It can be used for a column of a dataframe as well`"
   ]
  },
  {
   "cell_type": "markdown",
   "metadata": {},
   "source": [
    "#### Import the random email data file"
   ]
  },
  {
   "cell_type": "code",
   "execution_count": 22,
   "metadata": {},
   "outputs": [
    {
     "data": {
      "text/html": [
       "<div>\n",
       "<style scoped>\n",
       "    .dataframe tbody tr th:only-of-type {\n",
       "        vertical-align: middle;\n",
       "    }\n",
       "\n",
       "    .dataframe tbody tr th {\n",
       "        vertical-align: top;\n",
       "    }\n",
       "\n",
       "    .dataframe thead th {\n",
       "        text-align: right;\n",
       "    }\n",
       "</style>\n",
       "<table border=\"1\" class=\"dataframe\">\n",
       "  <thead>\n",
       "    <tr style=\"text-align: right;\">\n",
       "      <th></th>\n",
       "      <th>Id</th>\n",
       "      <th>Email Address</th>\n",
       "    </tr>\n",
       "  </thead>\n",
       "  <tbody>\n",
       "    <tr>\n",
       "      <th>0</th>\n",
       "      <td>138</td>\n",
       "      <td>mnmwuhasdwqweqw</td>\n",
       "    </tr>\n",
       "    <tr>\n",
       "      <th>1</th>\n",
       "      <td>141</td>\n",
       "      <td>cynvhupf@gamail.com</td>\n",
       "    </tr>\n",
       "    <tr>\n",
       "      <th>2</th>\n",
       "      <td>155</td>\n",
       "      <td>doznfpxy@gamail.com</td>\n",
       "    </tr>\n",
       "    <tr>\n",
       "      <th>3</th>\n",
       "      <td>156</td>\n",
       "      <td>ufpgolgelastqxaoi</td>\n",
       "    </tr>\n",
       "    <tr>\n",
       "      <th>4</th>\n",
       "      <td>160</td>\n",
       "      <td>rdvafvkummnuj@yahooo.com</td>\n",
       "    </tr>\n",
       "  </tbody>\n",
       "</table>\n",
       "</div>"
      ],
      "text/plain": [
       "    Id             Email Address\n",
       "0  138           mnmwuhasdwqweqw\n",
       "1  141       cynvhupf@gamail.com\n",
       "2  155       doznfpxy@gamail.com\n",
       "3  156         ufpgolgelastqxaoi\n",
       "4  160  rdvafvkummnuj@yahooo.com"
      ]
     },
     "execution_count": 22,
     "metadata": {},
     "output_type": "execute_result"
    }
   ],
   "source": [
    "import re\n",
    "import pandas as pd\n",
    "random_email_data = pd.read_csv('Random Email Dataset.csv')\n",
    "random_email_data.head()"
   ]
  },
  {
   "cell_type": "markdown",
   "metadata": {},
   "source": [
    "#### Display the Email ids"
   ]
  },
  {
   "cell_type": "code",
   "execution_count": 23,
   "metadata": {
    "scrolled": true
   },
   "outputs": [
    {
     "name": "stdout",
     "output_type": "stream",
     "text": [
      "0      138\n",
      "1      141\n",
      "2      155\n",
      "3      156\n",
      "4      160\n",
      "      ... \n",
      "165    985\n",
      "166    989\n",
      "167    991\n",
      "168    992\n",
      "169    999\n",
      "Name: Id, Length: 170, dtype: int64\n"
     ]
    }
   ],
   "source": [
    "print(random_email_data['Id'])"
   ]
  },
  {
   "cell_type": "markdown",
   "metadata": {},
   "source": [
    "#### FInd the number of gamail email Ids (ending with @gamail.com)"
   ]
  },
  {
   "cell_type": "code",
   "execution_count": 27,
   "metadata": {},
   "outputs": [
    {
     "name": "stdout",
     "output_type": "stream",
     "text": [
      "0\n"
     ]
    }
   ],
   "source": [
    "pattern = re.compile(r'$(\\b@gamail.com)\\b')\n",
    "global count\n",
    "count = 0\n",
    "emails_with_delimiter = '\\n'.join(random_email_data['Email Address'])\n",
    "# print(emails_with_delimiter)\n",
    "matches = pattern.finditer(emails_with_delimiter)\n",
    "for mat in matches:\n",
    "#     count=count+1\n",
    "    print(mat)\n",
    "print(count)\n",
    "    \n",
    "    "
   ]
  },
  {
   "cell_type": "code",
   "execution_count": null,
   "metadata": {},
   "outputs": [],
   "source": []
  },
  {
   "cell_type": "markdown",
   "metadata": {},
   "source": [
    "#### Find the number of yahooo email Ids (ending with @yahooo.com)"
   ]
  },
  {
   "cell_type": "code",
   "execution_count": null,
   "metadata": {},
   "outputs": [],
   "source": []
  },
  {
   "cell_type": "markdown",
   "metadata": {},
   "source": [
    "#### Find the number of entries that are not email ids (consider the entries that do not have a @ and a .com/.in/.org in them)"
   ]
  },
  {
   "cell_type": "code",
   "execution_count": null,
   "metadata": {},
   "outputs": [],
   "source": []
  },
  {
   "cell_type": "markdown",
   "metadata": {},
   "source": [
    "#### find the total entries that have the pattern 'asd' in them"
   ]
  },
  {
   "cell_type": "code",
   "execution_count": null,
   "metadata": {},
   "outputs": [],
   "source": []
  },
  {
   "cell_type": "markdown",
   "metadata": {},
   "source": [
    "#### find the number of email Ids that start with k"
   ]
  },
  {
   "cell_type": "code",
   "execution_count": null,
   "metadata": {},
   "outputs": [],
   "source": []
  }
 ],
 "metadata": {
  "kernelspec": {
   "display_name": "Python 3",
   "language": "python",
   "name": "python3"
  },
  "language_info": {
   "codemirror_mode": {
    "name": "ipython",
    "version": 3
   },
   "file_extension": ".py",
   "mimetype": "text/x-python",
   "name": "python",
   "nbconvert_exporter": "python",
   "pygments_lexer": "ipython3",
   "version": "3.8.3"
  }
 },
 "nbformat": 4,
 "nbformat_minor": 2
}
