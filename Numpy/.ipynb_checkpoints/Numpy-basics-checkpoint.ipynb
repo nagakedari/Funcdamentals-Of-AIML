{
 "cells": [
  {
   "cell_type": "code",
   "execution_count": 1,
   "metadata": {},
   "outputs": [],
   "source": [
    "import numpy as np"
   ]
  },
  {
   "cell_type": "code",
   "execution_count": 3,
   "metadata": {},
   "outputs": [
    {
     "name": "stdout",
     "output_type": "stream",
     "text": [
      "3.141592653589793\n",
      "-1.0\n",
      "8.0\n",
      "5.2\n",
      "1.0\n"
     ]
    }
   ],
   "source": [
    "print(np.pi)\n",
    "print(np.cos(np.pi)) # cosine (pi) - pi=3.141..\n",
    "print(np.sqrt(64))\n",
    "print(np.log(np.exp(5.2))) #np.log is the logorithm of natural base which is 'e'\n",
    "print(np.log10(10))"
   ]
  },
  {
   "cell_type": "code",
   "execution_count": 12,
   "metadata": {},
   "outputs": [
    {
     "name": "stdout",
     "output_type": "stream",
     "text": [
      "[1 2 4 5]\n",
      "[[ 1  3  5]\n",
      " [ 3  6  7]\n",
      " [ 9 10  2]]\n",
      "[[ 1  3  9]\n",
      " [ 3  6 10]\n",
      " [ 5  7  2]]\n",
      "-7.000000000000015\n",
      "[[ 8.28571429 -6.28571429  1.28571429]\n",
      " [-8.14285714  6.14285714 -1.14285714]\n",
      " [ 3.42857143 -2.42857143  0.42857143]]\n",
      "[[1 2]\n",
      " [1 2]]\n",
      "0.0\n"
     ]
    }
   ],
   "source": [
    "#generate an array / vector\n",
    "vector = np.array([1,2,4,5])\n",
    "print(vector)\n",
    "\n",
    "# generating matrix\n",
    "\n",
    "matrix = np.array([[1,3,5],[3,6,7],[9,10,2]])\n",
    "print(matrix)\n",
    "print(matrix.T) # T - Transpose of a mtrix\n",
    "print(np.linalg.det(matrix)) # Determinant of a matrix\n",
    "print(np.linalg.inv(matrix)) # matrix inverse\n",
    "\n",
    "matrrixWith0Det = np.array([[1,2], [1,2]])\n",
    "print(matrrixWith0Det)\n",
    "print(np.linalg.det(matrrixWith0Det))\n",
    "# print(np.linalg.inv(matrrixWith0Det)) # Cannot find the inverse of a mtrix as the determinant is zero"
   ]
  },
  {
   "cell_type": "code",
   "execution_count": 15,
   "metadata": {},
   "outputs": [
    {
     "name": "stdout",
     "output_type": "stream",
     "text": [
      "[0 1 2 3 4 5 6 7 8 9]\n",
      "[2 5 8]\n"
     ]
    }
   ],
   "source": [
    "vector1 = np.arange(0,10) #generates an array of 0 to 9 as the upper limit is exclusive\n",
    "print(vector1)\n",
    "vector2 = np.arange(2,10,3) # np.arrange(startvalue, endValue, stepSize) - generates an array from 2 to 10 execluding 10 with increment of 3, by default the step size is 1\n",
    "print(vector2)"
   ]
  },
  {
   "cell_type": "code",
   "execution_count": 23,
   "metadata": {},
   "outputs": [
    {
     "name": "stdout",
     "output_type": "stream",
     "text": [
      "[0.         0.55555556 1.11111111 1.66666667 2.22222222 2.77777778\n",
      " 3.33333333 3.88888889 4.44444444 5.        ]\n",
      "[1.         1.44444444 1.88888889 2.33333333 2.77777778 3.22222222\n",
      " 3.66666667 4.11111111 4.55555556 5.        ]\n",
      "[[0.        ]\n",
      " [0.55555556]\n",
      " [1.11111111]\n",
      " [1.66666667]\n",
      " [2.22222222]\n",
      " [2.77777778]\n",
      " [3.33333333]\n",
      " [3.88888889]\n",
      " [4.44444444]\n",
      " [5.        ]]\n",
      "[0.         0.55555556 1.11111111 1.66666667 2.22222222 2.77777778\n",
      " 3.33333333 3.88888889 4.44444444 5.        ]\n",
      "[[0.         0.55555556]\n",
      " [1.11111111 1.66666667]\n",
      " [2.22222222 2.77777778]\n",
      " [3.33333333 3.88888889]\n",
      " [4.44444444 5.        ]]\n"
     ]
    }
   ],
   "source": [
    "vector3 = np.linspace(0,5, 10) # generates an array of values that are evenly spaced b/w 0 and 5. That is there will be 9 spaces b/w 0 and 5\n",
    "print(vector3)\n",
    "vector4 = np.linspace(1,5, 10) # generates an array of values that are evenly spaced b/w 1 and 5. That is there will be 9 spaces b/w 1 and 5\n",
    "print(vector4)\n",
    "print(np.reshape(vector3, (10,1)))\n",
    "print(vector3) #reshape doesn't change the original vector it just returns a new array\n",
    "vector5 = np.reshape(vector3, (5,2))\n",
    "print(vector5)"
   ]
  },
  {
   "cell_type": "code",
   "execution_count": 28,
   "metadata": {},
   "outputs": [
    {
     "name": "stdout",
     "output_type": "stream",
     "text": [
      "[[0. 0. 0.]\n",
      " [0. 0. 0.]\n",
      " [0. 0. 0.]\n",
      " [0. 0. 0.]\n",
      " [0. 0. 0.]]\n",
      "[[1. 1. 1.]\n",
      " [1. 1. 1.]\n",
      " [1. 1. 1.]\n",
      " [1. 1. 1.]\n",
      " [1. 1. 1.]]\n",
      "[[1. 0. 0.]\n",
      " [0. 1. 0.]\n",
      " [0. 0. 1.]]\n",
      "[[1. 0.]\n",
      " [0. 1.]]\n"
     ]
    }
   ],
   "source": [
    "mat = np.zeros((5,3))\n",
    "print(mat)\n",
    "\n",
    "mat1 = np.ones((5,3))\n",
    "print(mat1)\n",
    "\n",
    "mat2 = np.identity(3)\n",
    "print(mat2)\n",
    "print(np.eye(2)) # eye is short form of identity matrix"
   ]
  },
  {
   "cell_type": "code",
   "execution_count": 31,
   "metadata": {},
   "outputs": [
    {
     "name": "stdout",
     "output_type": "stream",
     "text": [
      "[1 2 3 4 5]\n",
      "[2 3 4 5 6]\n",
      "[ 3  5  7  9 11]\n",
      "[ 2  6 12 20 30]\n",
      "[1.         1.41421356 1.73205081 2.         2.23606798]\n",
      "[0.5        0.33333333 0.25       0.2        0.16666667]\n"
     ]
    }
   ],
   "source": [
    "vec = np.arange(1,6)\n",
    "vec1 = np.arange(2,7)\n",
    "print(vec)\n",
    "print(vec1)\n",
    "print(vec + vec1)\n",
    "print(vec * vec1)\n",
    "print(np.sqrt(vec))\n",
    "print(1/vec1) #  generates an array with values 1/(each element of vector vec1)"
   ]
  },
  {
   "cell_type": "code",
   "execution_count": null,
   "metadata": {},
   "outputs": [],
   "source": []
  }
 ],
 "metadata": {
  "kernelspec": {
   "display_name": "Python 3",
   "language": "python",
   "name": "python3"
  },
  "language_info": {
   "codemirror_mode": {
    "name": "ipython",
    "version": 3
   },
   "file_extension": ".py",
   "mimetype": "text/x-python",
   "name": "python",
   "nbconvert_exporter": "python",
   "pygments_lexer": "ipython3",
   "version": "3.8.3"
  }
 },
 "nbformat": 4,
 "nbformat_minor": 4
}
